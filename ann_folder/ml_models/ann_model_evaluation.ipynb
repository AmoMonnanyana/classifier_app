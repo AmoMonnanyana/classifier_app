{
 "cells": [
  {
   "cell_type": "code",
   "execution_count": 15,
   "metadata": {},
   "outputs": [],
   "source": [
    "import numpy as np\n",
    "import tensorflow as tf\n",
    "import pandas as pd\n",
    "from sklearn.model_selection import train_test_split\n",
    "from sklearn.metrics import accuracy_score, classification_report, confusion_matrix, r2_score, mean_absolute_error, mean_squared_error\n",
    "from sklearn.preprocessing import LabelEncoder, OneHotEncoder\n",
    "from sklearn import metrics\n",
    "from matplotlib import pyplot as plt\n",
    "import seaborn as sns"
   ]
  },
  {
   "cell_type": "markdown",
   "metadata": {},
   "source": [
    "## Load models and define prediction function"
   ]
  },
  {
   "cell_type": "code",
   "execution_count": 16,
   "metadata": {},
   "outputs": [],
   "source": [
    "loaded_class_model = tf.keras.models.load_model(r\"C:\\Users\\amoge\\projects\\main_app-main\\ann_folder\\ml_models\\ann-c_model.h5\")\n",
    "loaded_reg_model = tf.keras.models.load_model(r\"C:\\Users\\amoge\\projects\\main_app-main\\ann_folder\\ml_models\\ann-r_model.h5\")"
   ]
  },
  {
   "cell_type": "code",
   "execution_count": 42,
   "metadata": {},
   "outputs": [
    {
     "name": "stdout",
     "output_type": "stream",
     "text": [
      "[6 2 3 1 5 0 4]\n"
     ]
    }
   ],
   "source": [
    "classes = ['very low contamination', \n",
    "           'low contamination', \n",
    "           'moderate contamination', \n",
    "           'high contamination', \n",
    "           'very high contamination', \n",
    "           'extremely high contamination', \n",
    "           'ultra-high contamination']\n",
    "\n",
    "\n",
    "class_encoder = LabelEncoder()\n",
    "encoded_classes = class_encoder.fit_transform(classes)\n",
    "print(encoded_classes)\n",
    "\n",
    "label_mapping = {'very low contamination': 6, \n",
    "           'low contamination': 2 , \n",
    "           'moderate contamination': 3, \n",
    "           'high contamination': 1, \n",
    "           'very high contamination': 5, \n",
    "           'extremely high contamination': 0, \n",
    "           'ultra-high contamination': 4}"
   ]
  },
  {
   "cell_type": "code",
   "execution_count": 57,
   "metadata": {},
   "outputs": [],
   "source": [
    "\n",
    "def make_class_predictions(X_set, y_set):\n",
    "    \n",
    "    \n",
    "    y_predicted = loaded_class_model.predict(X_set)\n",
    "    y_predicted_classes = np.argmax(y_predicted, axis=1)\n",
    "    decoded_predicted_classes = class_encoder.inverse_transform(y_predicted_classes)\n",
    "    accuracy = accuracy_score(y_set, y_predicted_classes)\n",
    "    report = classification_report(y_set, y_predicted_classes, zero_division=np.nan)\n",
    "    \n",
    "\n",
    "    \n",
    "    return y_set, y_predicted_classes, decoded_predicted_classes, accuracy, report\n",
    "\n",
    "\n",
    "def make_reg_predict(test_set, actual_values):\n",
    "    predictions = loaded_reg_model.predict(test_set).flatten()\n",
    "    prediction_plot = plt.scatter(actual_values, predictions)\n",
    "    plt.xlabel('actual')\n",
    "    plt.ylabel('ylabel')\n",
    "    accuracy_reg = r2_score(actual_values, predictions)\n",
    "    mse = mean_squared_error(actual_values, predictions)\n",
    "    mae = mean_absolute_error(actual_values, predictions)\n",
    "    rmse = np.sqrt(mse)\n",
    "    \n",
    "    return predictions, prediction_plot, accuracy_reg, mse, mae, rmse"
   ]
  },
  {
   "cell_type": "markdown",
   "metadata": {},
   "source": [
    "## Define calculation function"
   ]
  },
  {
   "cell_type": "code",
   "execution_count": 19,
   "metadata": {},
   "outputs": [],
   "source": [
    "def determine_contamination_degree(dataset):\n",
    "    fCd = []\n",
    "    fCr = []\n",
    "    fNi = []\n",
    "    fPb = []\n",
    "    fZn = []\n",
    "    fCu = []\n",
    "    fCo = []\n",
    "    fDeg = []\n",
    "    fDeg_class = []\n",
    "\n",
    "    for i in dataset:\n",
    "        #print(dataset[i])\n",
    "        for x in dataset[i]:\n",
    "            #print(x)\n",
    "            if i == 'Cd (mg/kg)':\n",
    "                f_value = x/7.5\n",
    "                #print(f_value)\n",
    "                fCd.append(f_value)\n",
    "\n",
    "            elif i == 'Cr (mg/kg)':\n",
    "                f_value = x/6.5\n",
    "                fCr.append(f_value)\n",
    "\n",
    "            elif i == 'Ni (mg/kg)':\n",
    "                f_value = x/91\n",
    "                fNi.append(f_value)\n",
    "\n",
    "            elif i == 'Pb (mg/kg)':\n",
    "                f_value = x/20\n",
    "                fPb.append(f_value)\n",
    "\n",
    "            elif i == 'Zn (mg/kg)':\n",
    "                f_value = x/240\n",
    "                fZn.append(f_value)\n",
    "\n",
    "            elif i == 'Cu (mg/kg)':\n",
    "                f_value = x/16\n",
    "                fCu.append(f_value)\n",
    "\n",
    "            elif i == 'Co (mg/kg)':\n",
    "                f_value = x/300\n",
    "                fCo.append(f_value)\n",
    "\n",
    "    #print(fCd)\n",
    "    dataset['fCd'] = pd.Series(fCd)\n",
    "    dataset['fCr'] = pd.Series(fCr)\n",
    "    dataset['fNi'] = pd.Series(fNi)\n",
    "    dataset['fPb'] = pd.Series(fPb)\n",
    "    dataset['fZn'] = pd.Series(fZn)\n",
    "    dataset['fCu'] = pd.Series(fCu)\n",
    "    dataset['fCo'] = pd.Series(fCo)\n",
    "\n",
    "\n",
    "   # dataset.loc[2]\n",
    "    #len(dataset)\n",
    "    factors = dataset.iloc[:, 9:]\n",
    "    #int(factors)\n",
    "\n",
    "    for r in range(len(factors)):\n",
    "        value = factors.loc[r].values\n",
    "        f_value = sum(value)/7\n",
    "       #print(f_value)\n",
    "        fDeg.append(f_value)\n",
    "        #rint(value)\n",
    "    dataset['fDeg'] = pd.Series(fDeg)\n",
    "    \n",
    "    for f in dataset['fDeg']:\n",
    "        if f < 1.5:\n",
    "            f_class = 'very low contamination'\n",
    "            \n",
    "        elif 1.5 < f and f <= 2:\n",
    "            f_class = 'low contamination'\n",
    "            \n",
    "        elif 2 < f and f <= 4:\n",
    "            f_class = 'moderate contamination'\n",
    "            \n",
    "        elif 4 < f and f <= 8:\n",
    "            f_class = 'high contamination'\n",
    "        \n",
    "        elif 8 < f and f <= 16:\n",
    "            f_class = 'very high contamination'\n",
    "        \n",
    "        elif 16 < f and f <= 32:\n",
    "            f_class = 'extremely high contamination'\n",
    "            \n",
    "        elif f > 32:\n",
    "            f_class = 'ultra-high contamination'\n",
    "            \n",
    "        fDeg_class.append(f_class)\n",
    "    dataset['fDeg_class'] = pd.Series(fDeg_class)\n",
    "    \n",
    "    return dataset"
   ]
  },
  {
   "cell_type": "markdown",
   "metadata": {},
   "source": [
    "## Load testing data"
   ]
  },
  {
   "cell_type": "markdown",
   "metadata": {},
   "source": [
    "### GLOBAL DATA"
   ]
  },
  {
   "cell_type": "code",
   "execution_count": 43,
   "metadata": {},
   "outputs": [
    {
     "name": "stdout",
     "output_type": "stream",
     "text": [
      "[6, 6, 6, 6, 6, 6, 6, 2, 6, 1, 3, 5, 2, 3, 2, 3, 2, 2, 6, 3]\n",
      "['very low contamination' 'very low contamination'\n",
      " 'very low contamination' 'very low contamination'\n",
      " 'very low contamination' 'very low contamination'\n",
      " 'very low contamination' 'low contamination' 'very low contamination'\n",
      " 'high contamination' 'moderate contamination' 'very high contamination'\n",
      " 'low contamination' 'moderate contamination' 'low contamination'\n",
      " 'moderate contamination' 'low contamination' 'low contamination'\n",
      " 'very low contamination' 'moderate contamination']\n"
     ]
    }
   ],
   "source": [
    "\n",
    "data2 = pd.read_excel(r\"C:\\Users\\amoge\\Documents\\Soil dataset_2.xlsx\")\n",
    "global_data = determine_contamination_degree(data2)\n",
    "\n",
    "\n",
    "X_global = global_data.iloc[:, 2:9].values\n",
    "y_global = global_data.iloc[:, -1].values\n",
    "z_global = global_data.iloc[:, -2].values\n",
    "\n",
    "encoded_y_global = [label_mapping[label] for label in y_global]\n",
    "print(encoded_y_global)\n",
    "\n",
    "\n",
    "print(y_global)"
   ]
  },
  {
   "cell_type": "markdown",
   "metadata": {},
   "source": [
    "### SA DATA"
   ]
  },
  {
   "cell_type": "code",
   "execution_count": 21,
   "metadata": {},
   "outputs": [
    {
     "name": "stdout",
     "output_type": "stream",
     "text": [
      "[6, 3, 3, 3, 2, 1, 3, 3, 1, 3, 3, 6, 6, 5, 6, 0, 3, 3, 6, 2, 3, 1, 6, 6, 6, 2, 5, 1, 3, 3, 3, 0, 3]\n"
     ]
    }
   ],
   "source": [
    "data3 = pd.read_excel(r\"C:\\Users\\amoge\\Documents\\soil_dataset_3.xlsx\")\n",
    "sa_data = determine_contamination_degree(data3)\n",
    "\n",
    "\n",
    "X_sa = sa_data.iloc[:, 2:9].values\n",
    "y_sa = sa_data.iloc[:, -1].values\n",
    "z_sa = sa_data.iloc[:, -2].values\n",
    "\n",
    "encoded_y_sa = [label_mapping[label] for label in y_sa]\n",
    "print(encoded_y_sa)"
   ]
  },
  {
   "cell_type": "markdown",
   "metadata": {},
   "source": [
    "# CLASSIFICATION"
   ]
  },
  {
   "cell_type": "markdown",
   "metadata": {},
   "source": [
    "## Make predictions"
   ]
  },
  {
   "cell_type": "markdown",
   "metadata": {},
   "source": [
    "### Global data"
   ]
  },
  {
   "cell_type": "code",
   "execution_count": 58,
   "metadata": {},
   "outputs": [
    {
     "name": "stdout",
     "output_type": "stream",
     "text": [
      "1/1 [==============================] - 0s 95ms/step\n",
      "[6, 6, 6, 6, 6, 6, 6, 2, 6, 1, 3, 5, 2, 3, 2, 3, 2, 2, 6, 3]\n",
      "-----------------------------------------------------------------------------------------------------------------------------------\n",
      "[6 6 6 6 6 6 6 6 6 3 6 3 6 3 6 6 6 6 6 3]\n",
      "-------------------------------------------------\n",
      "0.55\n",
      "              precision    recall  f1-score   support\n",
      "\n",
      "           1        nan      0.00       nan         1\n",
      "           2        nan      0.00       nan         5\n",
      "           3       0.50      0.50      0.50         4\n",
      "           5        nan      0.00       nan         1\n",
      "           6       0.56      1.00      0.72         9\n",
      "\n",
      "    accuracy                           0.55        20\n",
      "   macro avg       0.53      0.30      0.61        20\n",
      "weighted avg       0.54      0.55      0.65        20\n",
      "\n"
     ]
    },
    {
     "data": {
      "text/plain": [
       "Text(0, 0.5, 'ylabel')"
      ]
     },
     "execution_count": 58,
     "metadata": {},
     "output_type": "execute_result"
    },
    {
     "data": {
      "image/png": "[encoded data removed]",
      "text/plain": [
       "<Figure size 640x480 with 2 Axes>"
      ]
     },
     "metadata": {},
     "output_type": "display_data"
    }
   ],
   "source": [
    "y_set_g, y_predicted_classes_g, decoded_predicted_classes_g, accuracy_g, report_g = make_class_predictions(X_global, encoded_y_global)\n",
    "print(y_set_g)\n",
    "print('-----------------------------------------------------------------------------------------------------------------------------------')\n",
    "print(y_predicted_classes_g) \n",
    "print('-------------------------------------------------')\n",
    "print(accuracy_g)\n",
    "print(report_g)\n",
    "\n",
    "confusion = confusion_matrix(y_set_g, y_predicted_classes_g)\n",
    "\n",
    "\n",
    "cm_display = metrics.ConfusionMatrixDisplay(confusion_matrix = confusion, display_labels = ['HC', 'LC', 'MC', 'VHC', 'VLC'])\n",
    "confusion_diagram = cm_display.plot()\n",
    "plt.xlabel('actual')\n",
    "plt.ylabel('ylabel')\n",
    "\n"
   ]
  },
  {
   "cell_type": "markdown",
   "metadata": {},
   "source": [
    "### SA data"
   ]
  },
  {
   "cell_type": "code",
   "execution_count": 59,
   "metadata": {},
   "outputs": [
    {
     "name": "stdout",
     "output_type": "stream",
     "text": [
      "2/2 [==============================] - 0s 8ms/step\n",
      "0.6666666666666666\n",
      "-----------------------------------------------------------------------------------------------------------------------------------\n",
      "[6 3 3 6 2 3 3 3 3 3 3 6 6 3 6 3 3 3 6 6 3 3 6 6 6 6 3 3 3 3 3 3 3]\n",
      "-------------------------------------------------\n",
      "[6, 3, 3, 3, 2, 1, 3, 3, 1, 3, 3, 6, 6, 5, 6, 0, 3, 3, 6, 2, 3, 1, 6, 6, 6, 2, 5, 1, 3, 3, 3, 0, 3]\n",
      "              precision    recall  f1-score   support\n",
      "\n",
      "           0        nan      0.00       nan         2\n",
      "           1        nan      0.00       nan         4\n",
      "           2       1.00      0.33      0.50         3\n",
      "           3       0.62      0.93      0.74        14\n",
      "           5        nan      0.00       nan         2\n",
      "           6       0.73      1.00      0.84         8\n",
      "\n",
      "    accuracy                           0.67        33\n",
      "   macro avg       0.78      0.38      0.69        33\n",
      "weighted avg       0.70      0.67      0.75        33\n",
      "\n"
     ]
    },
    {
     "data": {
      "text/plain": [
       "Text(0, 0.5, 'ylabel')"
      ]
     },
     "execution_count": 59,
     "metadata": {},
     "output_type": "execute_result"
    },
    {
     "data": {
      "image/png": "[encoded data removed]",
      "text/plain": [
       "<Figure size 640x480 with 2 Axes>"
      ]
     },
     "metadata": {},
     "output_type": "display_data"
    }
   ],
   "source": [
    "y_set_sa, y_predicted_classes_sa, decoded_predicted_classes_sa, accuracy_sa, report_sa = make_class_predictions(X_sa, encoded_y_sa)\n",
    "print(accuracy_sa)\n",
    "print('-----------------------------------------------------------------------------------------------------------------------------------')\n",
    "print(y_predicted_classes_sa) \n",
    "print('-------------------------------------------------')\n",
    "print(y_set_sa)\n",
    "print(report_sa)\n",
    "\n",
    "confusion_SA = confusion_matrix(y_set_sa, y_predicted_classes_sa)\n",
    "\n",
    "cm_display_SA = metrics.ConfusionMatrixDisplay(confusion_matrix = confusion_SA, display_labels = ['EHC', 'HC', 'LC', 'MC', 'VHC', 'VLC'])\n",
    "confusion_diagram = cm_display_SA.plot()\n",
    "plt.xlabel('actual')\n",
    "plt.ylabel('ylabel')\n",
    "\n"
   ]
  },
  {
   "cell_type": "markdown",
   "metadata": {},
   "source": [
    "# REGRESSION"
   ]
  },
  {
   "cell_type": "markdown",
   "metadata": {},
   "source": [
    "## Make predictions"
   ]
  },
  {
   "cell_type": "markdown",
   "metadata": {},
   "source": [
    "### Global data"
   ]
  },
  {
   "cell_type": "code",
   "execution_count": 62,
   "metadata": {},
   "outputs": [
    {
     "name": "stdout",
     "output_type": "stream",
     "text": [
      "1/1 [==============================] - 0s 59ms/step\n",
      "[0.46377683 0.51544625 0.39570755 0.40965033 0.532907   0.4381463\n",
      " 0.5068915  0.66391623 0.4170127  2.5582094  4.5296474  5.840031\n",
      " 1.2584773  1.0543096  1.107781   1.3060254  1.0786861  1.1434301\n",
      " 1.001733   1.6851339 ]\n"
     ]
    },
    {
     "data": {
      "image/png": "[encoded data removed]",
      "text/plain": [
       "<Figure size 640x480 with 1 Axes>"
      ]
     },
     "metadata": {},
     "output_type": "display_data"
    }
   ],
   "source": [
    "predictions_g, prediction_plot_g, accuracy_reg, mse_g, mae_g, rmse_g = make_reg_predict(X_global, z_global)\n",
    "print(predictions_g)"
   ]
  },
  {
   "cell_type": "markdown",
   "metadata": {},
   "source": [
    "### SA data"
   ]
  },
  {
   "cell_type": "code",
   "execution_count": 103,
   "metadata": {},
   "outputs": [
    {
     "name": "stdout",
     "output_type": "stream",
     "text": [
      "2/2 [==============================] - 0s 4ms/step\n",
      "[ 1.1341157   1.583256    2.1066246   3.7473123   1.4279623   3.438025\n",
      "  2.4387016   1.8673093   3.8519998   2.5450132   1.7875497   1.0472851\n",
      "  0.3687524   8.471985    0.9206691  23.865728    2.6490989   1.4608369\n",
      "  0.74153924  1.0766653   2.0559156   3.5294282   0.39961213  0.77062213\n",
      "  0.8064097   0.88394856  7.6188655   4.9144535   2.0092852   2.1985505\n",
      "  2.0968773   8.842818    1.8951359 ]\n",
      "['very low contamination' 'moderate contamination'\n",
      " 'moderate contamination' 'moderate contamination' 'low contamination'\n",
      " 'high contamination' 'moderate contamination' 'moderate contamination'\n",
      " 'high contamination' 'moderate contamination' 'moderate contamination'\n",
      " 'very low contamination' 'very low contamination'\n",
      " 'very high contamination' 'very low contamination'\n",
      " 'extremely high contamination' 'moderate contamination'\n",
      " 'moderate contamination' 'very low contamination' 'low contamination'\n",
      " 'moderate contamination' 'high contamination' 'very low contamination'\n",
      " 'very low contamination' 'very low contamination' 'low contamination'\n",
      " 'very high contamination' 'high contamination' 'moderate contamination'\n",
      " 'moderate contamination' 'moderate contamination'\n",
      " 'extremely high contamination' 'moderate contamination']\n"
     ]
    },
    {
     "data": {
      "image/png": "[encoded data removed]",
      "text/plain": [
       "<Figure size 640x480 with 1 Axes>"
      ]
     },
     "metadata": {},
     "output_type": "display_data"
    }
   ],
   "source": [
    "predictions_sa, prediction_plot_sa, accuracy_reg_sa, mse_sa, mae_sa, rmse_sa = make_reg_predict(X_sa, z_sa)\n",
    "print(predictions_sa)\n",
    "print()\n"
   ]
  },
  {
   "cell_type": "markdown",
   "metadata": {},
   "source": [
    "## Convert regression results to classification"
   ]
  },
  {
   "cell_type": "code",
   "execution_count": 95,
   "metadata": {},
   "outputs": [],
   "source": [
    "\n",
    "def convert_reg_to_class(predictions): \n",
    "    converted_results = []   \n",
    "    for result in predictions:\n",
    "        if result < 1.5:\n",
    "            f_class = 'very low contamination'\n",
    "                \n",
    "        elif 1.5 < result and result <= 2:\n",
    "            f_class = 'low contamination'\n",
    "                \n",
    "        elif 2 < result and result <= 4:\n",
    "                f_class = 'moderate contamination'\n",
    "                \n",
    "        elif 4 < result and result <= 8:\n",
    "            f_class = 'high contamination'\n",
    "            \n",
    "        elif 8 < result and result <= 16:\n",
    "            f_class = 'very high contamination'\n",
    "            \n",
    "        elif 16 < result and result <= 32:\n",
    "            f_class = 'extremely high contamination'\n",
    "                \n",
    "        elif result > 32:\n",
    "            f_class = 'ultra-high contamination'\n",
    "            \n",
    "        converted_results.append(f_class)\n",
    "    return converted_results\n",
    "            \n"
   ]
  },
  {
   "cell_type": "code",
   "execution_count": 113,
   "metadata": {},
   "outputs": [
    {
     "name": "stdout",
     "output_type": "stream",
     "text": [
      "0.45\n",
      "              precision    recall  f1-score   support\n",
      "\n",
      "           1       0.00      0.00       nan         1\n",
      "           2       0.00      0.00       nan         5\n",
      "           3       0.00      0.00       nan         4\n",
      "           5        nan      0.00       nan         1\n",
      "           6       0.56      1.00      0.72         9\n",
      "\n",
      "    accuracy                           0.45        20\n",
      "   macro avg       0.14      0.20      0.72        20\n",
      "weighted avg       0.27      0.45      0.72        20\n",
      "\n",
      "[6, 6, 6, 6, 6, 6, 6, 2, 6, 1, 3, 5, 2, 3, 2, 3, 2, 2, 6, 3]\n",
      "[6, 6, 6, 6, 6, 6, 6, 6, 6, 3, 1, 1, 6, 6, 6, 6, 6, 6, 6, 2]\n"
     ]
    },
    {
     "data": {
      "image/png": "[encoded data removed]",
      "text/plain": [
       "<Figure size 640x480 with 2 Axes>"
      ]
     },
     "metadata": {},
     "output_type": "display_data"
    }
   ],
   "source": [
    "global_converted = convert_reg_to_class(predictions_g)\n",
    "encoded_global_converted = [label_mapping[label] for label in global_converted]\n",
    "accuracy_converted_g = accuracy_score(encoded_y_global, encoded_global_converted)\n",
    "report_converted_g = classification_report(encoded_y_global, encoded_global_converted, zero_division=np.nan)\n",
    "print(accuracy_converted_g)\n",
    "print(report_converted_g)\n",
    "confusion_converted_g = confusion_matrix(encoded_y_global, encoded_global_converted)\n",
    "cm_display_converted_g = metrics.ConfusionMatrixDisplay(confusion_matrix = confusion_converted_g, display_labels = ['HC', 'LC', 'MC', 'VHC', 'VLC'])\n",
    "confusion_diagram = cm_display_converted_g.plot()\n",
    "plt.xlabel('actual')\n",
    "plt.ylabel('ylabel')\n",
    "\n",
    "print(encoded_y_global)\n",
    "print(encoded_global_converted)"
   ]
  },
  {
   "cell_type": "code",
   "execution_count": 112,
   "metadata": {},
   "outputs": [
    {
     "name": "stdout",
     "output_type": "stream",
     "text": [
      "0.6060606060606061\n",
      "              precision    recall  f1-score   support\n",
      "\n",
      "           0       1.00      0.50      0.67         2\n",
      "           1       0.50      0.25      0.33         4\n",
      "           2       0.00      0.00       nan         3\n",
      "           3       0.75      0.64      0.69        14\n",
      "           5       0.50      0.50      0.50         2\n",
      "           6       0.67      1.00      0.80         8\n",
      "\n",
      "    accuracy                           0.61        33\n",
      "   macro avg       0.57      0.48      0.60        33\n",
      "weighted avg       0.63      0.61      0.66        33\n",
      "\n",
      "[6, 3, 3, 3, 2, 1, 3, 3, 1, 3, 3, 6, 6, 5, 6, 0, 3, 3, 6, 2, 3, 1, 6, 6, 6, 2, 5, 1, 3, 3, 3, 0, 3]\n",
      "[6, 2, 3, 3, 6, 3, 3, 2, 3, 3, 2, 6, 6, 5, 6, 0, 3, 6, 6, 6, 3, 3, 6, 6, 6, 6, 1, 1, 3, 3, 3, 5, 2]\n"
     ]
    },
    {
     "data": {
      "image/png": "[encoded data removed]",
      "text/plain": [
       "<Figure size 640x480 with 2 Axes>"
      ]
     },
     "metadata": {},
     "output_type": "display_data"
    }
   ],
   "source": [
    "sa_converted = convert_reg_to_class(predictions_sa)\n",
    "encoded_sa_converted = [label_mapping[label] for label in sa_converted]\n",
    "accuracy_converted_sa = accuracy_score(encoded_y_sa, encoded_sa_converted)\n",
    "report_converted_sa = classification_report(encoded_y_sa, encoded_sa_converted, zero_division=np.nan)\n",
    "print(accuracy_converted_sa)\n",
    "print(report_converted_sa)\n",
    "\n",
    "confusion_converted_sa = confusion_matrix(encoded_y_sa, encoded_sa_converted)\n",
    "cm_display_converted_sa = metrics.ConfusionMatrixDisplay(confusion_matrix = confusion_converted_sa, display_labels = ['EHC', 'HC', 'LC', 'MC', 'VHC', 'VLC'])\n",
    "confusion_diagram = cm_display_converted_sa.plot()\n",
    "plt.xlabel('actual')\n",
    "plt.ylabel('ylabel')\n",
    "\n",
    "print(encoded_y_sa)\n",
    "print(encoded_sa_converted)"
   ]
  }
 ],
 "metadata": {
  "kernelspec": {
   "display_name": "base",
   "language": "python",
   "name": "python3"
  },
  "language_info": {
   "codemirror_mode": {
    "name": "ipython",
    "version": 3
   },
   "file_extension": ".py",
   "mimetype": "text/x-python",
   "name": "python",
   "nbconvert_exporter": "python",
   "pygments_lexer": "ipython3",
   "version": "3.11.3"
  },
  "orig_nbformat": 4
 },
 "nbformat": 4,
 "nbformat_minor": 2
}
